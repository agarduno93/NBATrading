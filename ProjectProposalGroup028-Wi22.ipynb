{
 "cells": [
  {
   "cell_type": "markdown",
   "metadata": {},
   "source": [
    "# COGS 108 - Final Project Proposal"
   ]
  },
  {
   "cell_type": "markdown",
   "metadata": {},
   "source": [
    "# Names\n",
    "\n",
    "- Alexis Garduno\n",
    "- Aleksander Archipov\n",
    "- Jamie Wei\n",
    "- James Daza"
   ]
  },
  {
   "cell_type": "markdown",
   "metadata": {},
   "source": [
    "# Research Question"
   ]
  },
  {
   "cell_type": "markdown",
   "metadata": {},
   "source": [
    "* Does the number of times a player is traded predict their player's performance (e.g. average total points scored/game, average minutes played/game) in an NBA game? Also, does the turn-out rate of a NBA team affect the likelihood that they will reach the finals?"
   ]
  },
  {
   "cell_type": "markdown",
   "metadata": {},
   "source": [
    "## Background and Prior Work"
   ]
  },
  {
   "cell_type": "markdown",
   "metadata": {},
   "source": [
    "*Fill in your background and prior work here. Be sure to specify which statements are from which references.* \n",
    "\n",
    "References (include links):\n",
    "- 1) https://www.nba.com/news/trade-deadline-when-friends-are-dealt\n",
    "- 2)"
   ]
  },
  {
   "cell_type": "markdown",
   "metadata": {},
   "source": [
    "# Hypothesis\n"
   ]
  },
  {
   "cell_type": "markdown",
   "metadata": {},
   "source": [
    "We expect that a NBA player who is traded times than an average NBA player over their career will score less points on average and play less time in a game on average. Teams with NBA players who are traded more than the average number of players will be less likely to make it to the NBA finals.\n"
   ]
  },
  {
   "cell_type": "markdown",
   "metadata": {},
   "source": [
    "# Data"
   ]
  },
  {
   "cell_type": "markdown",
   "metadata": {},
   "source": [
    "* Our ideal dataset captures the representative history of the NBA games and player history; the dataset will have summary statistics of each NBA player's performance over their entire career. Specifically, the variables needed will be team membership and the period in which the player belonged to that particular team. It will be important to determine the period of team membership for each individual player, in order to determine when a player was traded, and if this trade occurred within a season or post-season. \n",
    "* Parameters to define player turnover: player, team identity, \n",
    "* Parameters to assess player performance: <@Jamie Wei, please insert the player performance statistics here. >\n",
    "\n",
    "\n",
    "\n",
    "*Explain what the ideal dataset you would want to answer this question. (This should include: What variables? How many observations? Who/what/how would these data be collected? How would these data be stored/organized?)*"
   ]
  },
  {
   "cell_type": "markdown",
   "metadata": {},
   "source": [
    "# Ethics & Privacy"
   ]
  },
  {
   "cell_type": "markdown",
   "metadata": {},
   "source": [
    "* Ethics: One ethical concern is use of our predictive model of the player and team performance for gambling. If we make this program publically available, it will be important to write disclaimers about use of this model for gambling, since our model does not incorporate . We don't have any concerns about privacy since this data is publically available and is de-identified. In addition, this model may identify players as undesirable and may slander the performance of the athlete, which may lead them to be viewed negatively by the public. \n",
    "* Privacy: Player statistics are generally publicized in the news and are a part of player contracts; they are not protected personal information and cannot be used to identify other private information about individual players. "
   ]
  },
  {
   "cell_type": "markdown",
   "metadata": {},
   "source": [
    "# Team Expectations "
   ]
  },
  {
   "cell_type": "markdown",
   "metadata": {},
   "source": [
    "* James Daza: Setting up the dataset using the NBA API, splitting up the coding for data management and statistical analysis \n",
    "* Alexis Garduno: Contributing to genereating dataset features through data aggregation; will help define the independent variable for models of player turn-over and quantify the number of times a player is traded by aggregating data from each game for each player over their career; contribute to designing and implementing statistical analysis. \n",
    "* Jamie Wie: Background\n",
    "* Aleksander Archipov: Interpolation, analysis, coding"
   ]
  },
  {
   "cell_type": "markdown",
   "metadata": {},
   "source": [
    "# Project Timeline Proposal"
   ]
  },
  {
   "cell_type": "markdown",
   "metadata": {},
   "source": [
    "| Meeting Date  | Meeting Time| Completed Before Meeting  | Discuss at Meeting |\n",
    "|---|---|---|---|\n",
    "| 1/20  |  1 PM | Read & Think about COGS 108 expectations; brainstorm topics/questions  | Determine best form of communication; Discuss and decide on final project topic; discuss hypothesis; begin background research | \n",
    "| 1/26  |  10 AM |  Do background research on topic | Discuss ideal dataset(s) and ethics; draft project proposal | \n",
    "| 2/1  | 10 AM  | Edit, finalize, and submit proposal; Search for datasets  | Discuss Wrangling and possible analytical approaches; Assign group members to lead each specific part   |\n",
    "| 2/14  | 6 PM  | Import & Wrangle Data (Ant Man); EDA (Hulk) | Review/Edit wrangling/EDA; Discuss Analysis Plan   |\n",
    "| 2/23  | 12 PM  | Finalize wrangling/EDA; Begin Analysis (Iron Man; Thor) | Discuss/edit Analysis; Complete project check-in |\n",
    "| 3/13  | 12 PM  | Complete analysis; Draft results/conclusion/discussion (Wasp)| Discuss/edit full project |\n",
    "| 3/19  | Before 11:59 PM  | NA | Turn in Final Project & Group Project Surveys |"
   ]
  }
 ],
 "metadata": {
  "kernelspec": {
   "display_name": "Python 3 (ipykernel)",
   "language": "python",
   "name": "python3"
  },
  "language_info": {
   "codemirror_mode": {
    "name": "ipython",
    "version": 3
   },
   "file_extension": ".py",
   "mimetype": "text/x-python",
   "name": "python",
   "nbconvert_exporter": "python",
   "pygments_lexer": "ipython3",
   "version": "3.9.5"
  }
 },
 "nbformat": 4,
 "nbformat_minor": 2
}
