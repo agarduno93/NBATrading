{
 "cells": [
  {
   "cell_type": "markdown",
   "metadata": {},
   "source": [
    "# COGS 108 - Final Project (change this to your project's title)"
   ]
  },
  {
   "cell_type": "markdown",
   "metadata": {},
   "source": [
    "## Permissions\n",
    "\n",
    "Place an `X` in the appropriate bracket below to specify if you would like your group's project to be made available to the public. (Note that student names will be included (but PIDs will be scraped from any groups who include their PIDs).\n",
    "\n",
    "* [`X`] YES - make available\n",
    "* [  ] NO - keep private"
   ]
  },
  {
   "cell_type": "markdown",
   "metadata": {},
   "source": [
    "# Overview"
   ]
  },
  {
   "cell_type": "markdown",
   "metadata": {},
   "source": [
    "*Fill in your overview here*"
   ]
  },
  {
   "cell_type": "markdown",
   "metadata": {},
   "source": [
    "# Names\n",
    "\n",
    "- Alexis Garduno\n",
    "- James Daza\n",
    "- Jamie Wei\n",
    "- Aleksander Archipov"
   ]
  },
  {
   "cell_type": "markdown",
   "metadata": {},
   "source": [
    "<a id='research_question'></a>\n",
    "# Research Question"
   ]
  },
  {
   "cell_type": "markdown",
   "metadata": {},
   "source": [
    "- Does the number of times a player is traded predict that player's performance (e.g. average total points scored/game, average minutes played/game, etc) in an NBA game? Also, does the turn-over rate (e.g. number of players traded within a team/season) of a NBA team affect the likelihood that the team will reach the NBA finals (evidenced by the last 20 years of NBA games)?"
   ]
  },
  {
   "cell_type": "markdown",
   "metadata": {},
   "source": [
    "<a id='background'></a>\n",
    "\n",
    "## Background & Prior Work"
   ]
  },
  {
   "cell_type": "markdown",
   "metadata": {},
   "source": [
    "#### Background\n",
    "\n",
    "The NBA is a high-tension business, where is each team is constantly fighting to maintain only the highest skilled players.  While the top 25 big hitters tend to remain relatively static, the rest of the 450+ players in the league can come and go at any moment.  This can have a great impact on the team and the players.  Trades in the NBA are quite complex, dealing with variables such as salary cap, the NBA collective bargaining agreement(CBA), as well as the team's personal needs.  Some research has already been done on the effects of trades on NBA teams as well as work on predicting factors in NBA player and team success.   \n",
    "\n",
    "The NBA is also a very stat-heavy sport. NBA games are decided by whichever team has the most points. However, that doesn’t mean Basketball is just about outsourcing your opponent. There are many other factors that are looked upon. Mainly: assists, rebounds, blocks, steals, and turnovers. Each of these variables could be a factor in increasing the points of a team. Assists count when an NBA player passes the ball to another player and that player manages to score some points. A rebound is when another player attempts a shot, and the player catches the ball as it's falling down. A block is when a player manages to deflect a player's shot from his goal. A steal is when a player manages to gain possession from the other team. Finally, a turnover is when a player loses control of the ball, and the opposing team gains possession. Obviously, it is better to have higher stats in all of the mentioned above except turnovers. In this study, we will be looking at these stats and many others to determine how a player is performing in a season. \n",
    "\n",
    "#### Prior Work\n",
    "\n",
    "In a 2020 article by Michael C. Wright (Reference 1), Wright talks to players about the effect that trades can have on the team's morale.  Players mentioned how close wins and tough losses throughout a season can create strong bonds and chemistry between players.  Teams with good chemistry are generally more successful and thus make it closer to the Finals.  The NBA veterans note that it is something they can get used to.  For instance, early in their career, it can have a big impact on how they play, but as they get older they realize it is just a part of the business and it does not affect them as much.  Even still, players that might play together for 5 or more years can easily be separated at any time.  \n",
    "\n",
    "Work on predicting NBA results has been done before.  The website fivethirtyeight.com (Reference 2) uses player projections that take into account factors, such as physiological, scoring, tendencies, passing, and defense, among other variables.  This data is compared to past NBA players to predict that player's season.  The site then runs simulations on this data to form predicted season statistics for each team.  While this is a reasonable predictor, it fails to take into consideration any phycological factors that can arise from trading, as mentioned previously.\n",
    "\n",
    "Another source we looked at (Reference 3) found the most important stats when looking at team performances. Generally, a lot of team performance can’t be calculated into a number, however, this website managed to find a correlation between some stats and the likelihood of winning. They specifically looked at Rebounds, Turnovers, Field goal %, Free throw %, and Fouls. They found that the team with the higher Field goal % is 75% more likely to win the game and that the team with the highest Free throw % is 70% more likely to win. However, just because these stats may be higher for some teams, it doesn't always mean they will win the game.\n",
    "\n",
    "References (include links):\n",
    "- 1) https://www.nba.com/news/trade-deadline-when-friends-are-dealt\n",
    "- 2) https://projects.fivethirtyeight.com/nba-trades-2022/\n",
    "- 3) https://www.oskeimsportspicks.com/nba-stats/#:~:text=In%20addition%20to%20winning%20three%20of%[…]so%20why%20put%20them%20first%20on%20the%20list%3F"
   ]
  },
  {
   "cell_type": "markdown",
   "metadata": {},
   "source": [
    "# Hypothesis\n"
   ]
  },
  {
   "cell_type": "markdown",
   "metadata": {},
   "source": [
    "We expect that an NBA player who is traded more than an average NBA player at their point of their career (in terms of years in the NBA) will score less points/game, play less time/game, and have worse performance on average. Teams with NBA players who are traded more than an average player at a similar point in their career will be less likely to make it to the NBA finals."
   ]
  },
  {
   "cell_type": "markdown",
   "metadata": {},
   "source": [
    "# Dataset(s)"
   ]
  },
  {
   "cell_type": "markdown",
   "metadata": {},
   "source": [
    "#### Source Name: NBA_API\n",
    "- Link to the dataset: https://github.com/swar/nba_api\n",
    "- Number of observations: N/A\n",
    "- API Client that allows access to various NBA's stats API endpoints\n",
    "\n",
    "#### Source Name: NBA Stats\n",
    "- Link to the dataset: https://www.nba.com/stats/\n",
    "- Player stats from 10 random teams ranging from 2016-2021\n",
    "\n",
    "We began with two sources, primarily relying on the NBA_API to construct datastreams. We performed some simple quality checks to ensure that the dataset we pulled from the NBA_API was consistent with the data shown on the NBA stats site.\n",
    "\n",
    "#### Dataset: PlayerStats-Team Ranking \n",
    "- ***Description:*** This dataset contains a player's performance for an individual season; each row is uniquely defined for a player's performance for that team in an individual season. Each player's stat will be averaged per game. If players were traded in the middle of the season, there would be two rows per player. This dataset also contains information about how often players were traded in a given season. This dataset was merged to team performance statistics, largely team rankings over an individual season. This dataset has a header of \"working dataset.\"\n",
    "- ***Observations:*** 2,892 players per season\n",
    "##### Dataset: Column Meanings\n",
    "- points per game(PTS)- the amount of points a player scores per games that they play\n",
    "- assists per game(AST)- the amount of times a player pass the ball to a teammate and they score\n",
    "- Offensive rebounds per game(OREB) - the amount of times a player obtains the ball off a miss on offensive.\n",
    "- Defensive rebounds per game(DREB) - the amount of times a player obtains the ball off a miss on offensive.\n",
    "- steals per game(STL) - the amount of times a player obtains the ball from the opponent. Either by intercepting the pass or hitting the ball out of their opponenets hands.\n",
    "- blocks per game(BLK)- the amount of times a player manges to stop the ball after their opponent attempts a shot\n",
    "- field goal percentage(FG_PCT) - the amount of times a player makes the ball vs how many they attempt\n",
    "- free throw perentage(FT_PCT) - the amount of times a player makes the ball in freethrow vs how many they attempt\n",
    "- field goals made(FMG)- the amount of goals a player hits in the game\n",
    "- Three pointers made(FG3_PCT) - the amount of times a player scores a basket outside of the three pointer line\n",
    "- Number of observations:\n",
    "\n",
    "***1-2 sentences describing each dataset.***\n",
    "\n",
    "***If you plan to use multiple datasets, add 1-2 sentences about how you plan to combine these datasets.***"
   ]
  },
  {
   "cell_type": "markdown",
   "metadata": {},
   "source": [
    "# Setup"
   ]
  },
  {
   "cell_type": "code",
   "execution_count": 2,
   "metadata": {},
   "outputs": [],
   "source": [
    "import pandas as pd\n",
    "import numpy as np\n",
    "import time\n",
    "import seaborn as sns\n",
    "import warnings\n",
    "warnings.filterwarnings(action='once')\n",
    "\n",
    "from nba_api.stats.static import players\n",
    "from nba_api.stats.endpoints import playercareerstats"
   ]
  },
  {
   "cell_type": "markdown",
   "metadata": {},
   "source": [
    "# Data Cleaning"
   ]
  },
  {
   "cell_type": "markdown",
   "metadata": {},
   "source": [
    "Describe your data cleaning steps here."
   ]
  },
  {
   "cell_type": "code",
   "execution_count": 2,
   "metadata": {},
   "outputs": [],
   "source": [
    "### Gathering Teams"
   ]
  },
  {
   "cell_type": "code",
   "execution_count": null,
   "metadata": {},
   "outputs": [],
   "source": [
    "#Import the roster of teams from the NBA API\n",
    "from nba_api.stats.static import teams\n",
    "\n",
    "nba_teams = teams.get_teams()"
   ]
  },
  {
   "cell_type": "code",
   "execution_count": null,
   "metadata": {},
   "outputs": [],
   "source": [
    "#Obtain a full list of all abbreviations - will need abbreviations to identify team statistics\n",
    "nba_teams_df=pd.DataFrame(nba_teams)\n",
    "team_id=nba_teams_df['id'] #this is the unique team id\n",
    "team_id_random=np.random.choice(team_id,10,replace=False) #identify ten team ids\n",
    "nba_teams_rdf=nba_teams_df[nba_teams_df['id'].isin(team_id_random)] #df of 10 randomly selected teams\n",
    "nba_teams_rdf"
   ]
  },
  {
   "cell_type": "code",
   "execution_count": null,
   "metadata": {},
   "outputs": [],
   "source": [
    "### Requesting Games\n",
    "Now we request the games for all of the ten teams we have selected"
   ]
  },
  {
   "cell_type": "code",
   "execution_count": null,
   "metadata": {},
   "outputs": [],
   "source": [
    "#Pull all games for all ten teams\n",
    "\n",
    "#Documentation for this endpoint: \n",
    "#https://github.com/swar/nba_api/blob/master/docs/nba_api/stats/endpoints/leaguegamefinder.md\n",
    "from nba_api.stats.endpoints import leaguegamefinder\n",
    "\n",
    "# Query for games from the League Game Finder\n",
    "gamefinder=pd.DataFrame()\n",
    "for i in team_id_random:\n",
    "    time.sleep(1) #delay to prevent being blocked from the API\n",
    "    df = leaguegamefinder.LeagueGameFinder(team_id_nullable=[i]).get_data_frames()[0] #parameter of team ids given\n",
    "    gamefinder = pd.concat([df,gamefinder])"
   ]
  },
  {
   "cell_type": "code",
   "execution_count": null,
   "metadata": {},
   "outputs": [],
   "source": [
    "#Game Statistics\n",
    "\n",
    "#One row corresponds to one game and one team.\n",
    "#There will be two rows per game, since there are two teams that played each other.\n",
    "#Will need to exclude duplicate rows (XXXX will remove duplicate rows)\n",
    "print(list(set(gamefinder.TEAM_ID))) #confirmed that identified 10 different teams\n",
    "print(gamefinder.shape) #31,386 games\n",
    "\n",
    "##Game Finder Dataset: This dataset will be used as the outcome when we look at the association between \n",
    "##the exposure and outcome relationship. \n",
    "gamefinder"
   ]
  },
  {
   "cell_type": "code",
   "execution_count": null,
   "metadata": {},
   "outputs": [],
   "source": [
    "Now we request all the player stats from seasons ranging from 2016-2021"
   ]
  },
  {
   "cell_type": "code",
   "execution_count": null,
   "metadata": {},
   "outputs": [],
   "source": [
    "#get game ids for the last five years\n",
    "\n",
    "#for now, let's focus on the last five seasons for ease\n",
    "from nba_api.stats.endpoints import playergamelogs\n",
    "\n",
    "#generate a parameter dataframe to define timeframe\n",
    "#Is this timeframe correct? What is the timeframe that the season normally runs from?\n",
    "season_parameter_df=pd.DataFrame({'Season':['2016-17','2017-18','2018-19','2019-20','2020-21'], \n",
    "                    'Date_From':['9/01/2016','9/01/2017','9/01/2018','9/01/2019','9/01/2020'],\n",
    "                    'Date_To':['8/31/2017','8/31/2018','8/31/2019','8/31/2020','8/31/2021']})\n",
    "\n",
    "#will obtain no game ids, without the season_nullable and date_nullable items selected\n",
    "logsdf=pd.DataFrame()\n",
    "for i in list(range(1, 5)):\n",
    "    time.sleep(1)\n",
    "    season=season_parameter_df.iloc[i][0]\n",
    "    date_from=season_parameter_df.iloc[i][1]\n",
    "    date_to=season_parameter_df.iloc[i][2]\n",
    "    \n",
    "    logs = pd.DataFrame(playergamelogs.PlayerGameLogs(\n",
    "        season_nullable = season,\n",
    "        date_from_nullable = date_from,                                                     \n",
    "        date_to_nullable = date_to\n",
    "    ).player_game_logs.get_data_frame())\n",
    "    logsdf = pd.concat([logs,logsdf])"
   ]
  },
  {
   "cell_type": "code",
   "execution_count": null,
   "metadata": {},
   "outputs": [],
   "source": [
    "#unique set of game ids\n",
    "game_ids = list(set(logsdf['GAME_ID'])) #not sure if we need game_ids\n",
    "player_ids = pd.DataFrame(list(set(logsdf['PLAYER_ID'])))\n",
    "print(pd.DataFrame(game_ids).shape) #4599 game ids\n",
    "print(player_ids.shape) #875 unique players\n",
    "print(logsdf.shape) #97,655 rows where each row is for each player in each game. "
   ]
  },
  {
   "cell_type": "code",
   "execution_count": null,
   "metadata": {},
   "outputs": [],
   "source": [
    "<b>4599 Games <br>\n",
    "875 Unique Players <br>\n",
    "97,655 stats of players in each game<b>"
   ]
  },
  {
   "cell_type": "code",
   "execution_count": null,
   "metadata": {},
   "outputs": [],
   "source": [
    "All the columns of every player that played in the seasons we selected from the random teams chosen"
   ]
  },
  {
   "cell_type": "code",
   "execution_count": null,
   "metadata": {},
   "outputs": [],
   "source": [
    "#preview, likely not use these columns\n",
    "logsdf.columns"
   ]
  },
  {
   "cell_type": "code",
   "execution_count": null,
   "metadata": {},
   "outputs": [],
   "source": [
    "# Data Cleaning"
   ]
  },
  {
   "cell_type": "code",
   "execution_count": null,
   "metadata": {},
   "outputs": [],
   "source": [
    "### Cleaning Player Logs"
   ]
  },
  {
   "cell_type": "code",
   "execution_count": null,
   "metadata": {},
   "outputs": [],
   "source": [
    "# Copy Logs DataFrame and remove TEAM ID's that were not selected\n",
    "logsDf = logsdf.copy()\n",
    "\n",
    "\n",
    "# Restrict to the player stats we want\n",
    "logsDf = logsDf[['SEASON_YEAR', 'PLAYER_ID', 'PLAYER_NAME', 'TEAM_ID', 'TEAM_NAME', 'MIN', 'FG_PCT', 'FT_PCT', 'PTS', 'AST', 'REB', 'STL', 'BLK', 'PLUS_MINUS']]\n",
    "logsDf"
   ]
  },
  {
   "cell_type": "code",
   "execution_count": null,
   "metadata": {},
   "outputs": [],
   "source": [
    "### Cleaning boxstats"
   ]
  },
  {
   "cell_type": "code",
   "execution_count": null,
   "metadata": {},
   "outputs": [],
   "source": [
    "### Saving Data <br>\n",
    "Now we save the data we gathered we requested from the NBA API into csv files"
   ]
  },
  {
   "cell_type": "code",
   "execution_count": null,
   "metadata": {},
   "outputs": [],
   "source": [
    "#Saving the Data to a csv file\n",
    "logsDf.to_csv(\"logPlayerStats.csv\")\n",
    "\n",
    "# NEED TO RUN BOXSTATS REQUEST BLOCK FIRST\n",
    "# boxscfinder.to_csv(\"boxscfinder.csv\")"
   ]
  },
  {
   "cell_type": "code",
   "execution_count": null,
   "metadata": {},
   "outputs": [],
   "source": [
    "### Manipulating/Plotting CSV File Data"
   ]
  },
  {
   "cell_type": "code",
   "execution_count": null,
   "metadata": {},
   "outputs": [],
   "source": [
    "#Need to plot the distributions data using either seaborn or matplotlib\n",
    "\n",
    "dataDf = pd.read_csv(\"logPlayerStats.csv\")\n",
    "#dataDf['TIMES_TRADED'] = np.nan\n",
    "pid_lst = list(player_ids[0])\n",
    "pid_lst[0]\n",
    "\n",
    "season = ['2016-17','2017-18','2018-19','2019-20','2020-21']\n",
    "\n",
    "playerStats = pd.DataFrame()\n",
    "for pid in pid_lst:\n",
    "    time.sleep(1)\n",
    "    career = playercareerstats.PlayerCareerStats(player_id=pid)\n",
    "    temp = career.get_data_frames()[0]\n",
    "    temp = temp[temp['SEASON_ID'].isin(season)]\n",
    "    playerStats = playerStats.append(temp)"
   ]
  },
  {
   "cell_type": "code",
   "execution_count": null,
   "metadata": {},
   "outputs": [],
   "source": [
    "season = ['2016-17','2017-18','2018-19','2019-20','2020-21']\n",
    "for s in season:\n",
    "    playerStats[\"Traded \" + s] = 0\n",
    "    \n",
    "for pid in pid_lst:\n",
    "    for s in season:\n",
    "        tempDf = dataDf.loc[(dataDf['PLAYER_ID'] == pid) & (dataDf['SEASON_YEAR'] == s)]\n",
    "        tempDf = tempDf.reset_index(drop=True)\n",
    "        tempDf = tempDf.drop_duplicates(subset=['TEAM_ID'])\n",
    "        traded = len(tempDf.index)-1\n",
    "        \n",
    "        if traded >= 0:\n",
    "            playerStats.loc[(playerStats['PLAYER_ID'] == pid), [\"Traded \" + s]] = traded\n",
    "        else:\n",
    "            playerStats.loc[(playerStats['PLAYER_ID'] == pid), [\"Traded \" + s]] = 0"
   ]
  },
  {
   "cell_type": "code",
   "execution_count": null,
   "metadata": {},
   "outputs": [],
   "source": [
    "playerStats = playerStats.reset_index(drop=True)\n",
    "playerStats"
   ]
  },
  {
   "cell_type": "code",
   "execution_count": null,
   "metadata": {},
   "outputs": [],
   "source": [
    "playerStats.to_csv(\"PlayerStats.csv\")"
   ]
  },
  {
   "cell_type": "code",
   "execution_count": null,
   "metadata": {},
   "outputs": [],
   "source": [
    "playerStats"
   ]
  },
  {
   "cell_type": "code",
   "execution_count": null,
   "metadata": {},
   "outputs": [],
   "source": [
    "playerStats[playerStats['PLAYER_ID'] ==1626144 ]"
   ]
  },
  {
   "cell_type": "code",
   "execution_count": null,
   "metadata": {},
   "outputs": [],
   "source": [
    "season_stats = pd.DataFrame()\n",
    "for pid in pid_lst:\n",
    "    time.sleep(1)\n",
    "    career = playercareerstats.PlayerCareerStats(player_id=pid)\n",
    "    temp = career.career_totals_regular_season.get_data_frame()\n",
    "    season_stats = season_stats.append(temp)  "
   ]
  },
  {
   "cell_type": "code",
   "execution_count": null,
   "metadata": {},
   "outputs": [],
   "source": [
    "season_stats"
   ]
  },
  {
   "cell_type": "code",
   "execution_count": null,
   "metadata": {},
   "outputs": [],
   "source": [
    "season = ['2016-17','2017-18','2018-19','2019-20','2020-21']\n",
    "for s in season:\n",
    "    season_stats[\"Traded \" + s] = 0\n",
    "    \n",
    "for pid in pid_lst:\n",
    "    for s in season:\n",
    "        tempDf = dataDf.loc[(dataDf['PLAYER_ID'] == pid) & (dataDf['SEASON_YEAR'] == s)]\n",
    "        tempDf = tempDf.reset_index(drop=True)\n",
    "        tempDf = tempDf.drop_duplicates(subset=['TEAM_ID'])\n",
    "        traded = len(tempDf.index)-1\n",
    "        \n",
    "        if traded >= 0:\n",
    "            season_stats.loc[(season_stats['PLAYER_ID'] == pid), [\"Traded \" + s]] = traded\n",
    "\n",
    "        else:\n",
    "            season_stats.loc[(playerStats['PLAYER_ID'] == pid), [\"Traded \" + s]] = 0"
   ]
  },
  {
   "cell_type": "code",
   "execution_count": null,
   "metadata": {},
   "outputs": [],
   "source": [
    "season_stats.to_csv(\"careerStats_v2.csv\")"
   ]
  },
  {
   "cell_type": "markdown",
   "metadata": {},
   "source": [
    "# Data Analysis & Results"
   ]
  },
  {
   "cell_type": "markdown",
   "metadata": {},
   "source": [
    "Include cells that describe the steps in your data analysis."
   ]
  },
  {
   "cell_type": "code",
   "execution_count": 3,
   "metadata": {},
   "outputs": [],
   "source": [
    "## YOUR CODE HERE\n",
    "## FEEL FREE TO ADD MULTIPLE CELLS PER SECTION"
   ]
  },
  {
   "cell_type": "markdown",
   "metadata": {},
   "source": [
    "# Ethics & Privacy"
   ]
  },
  {
   "cell_type": "markdown",
   "metadata": {},
   "source": [
    "*Fill in your ethics & privacy discussion here*"
   ]
  },
  {
   "cell_type": "markdown",
   "metadata": {},
   "source": [
    "# Conclusion & Discussion"
   ]
  },
  {
   "cell_type": "markdown",
   "metadata": {},
   "source": [
    "*Fill in your discussion information here*"
   ]
  },
  {
   "cell_type": "markdown",
   "metadata": {},
   "source": [
    "# Team Contributions"
   ]
  },
  {
   "cell_type": "markdown",
   "metadata": {},
   "source": [
    "*Specify who in your group worked on which parts of the project.*"
   ]
  }
 ],
 "metadata": {
  "kernelspec": {
   "display_name": "Python 3",
   "language": "python",
   "name": "python3"
  },
  "language_info": {
   "codemirror_mode": {
    "name": "ipython",
    "version": 3
   },
   "file_extension": ".py",
   "mimetype": "text/x-python",
   "name": "python",
   "nbconvert_exporter": "python",
   "pygments_lexer": "ipython3",
   "version": "3.7.7"
  }
 },
 "nbformat": 4,
 "nbformat_minor": 2
}
