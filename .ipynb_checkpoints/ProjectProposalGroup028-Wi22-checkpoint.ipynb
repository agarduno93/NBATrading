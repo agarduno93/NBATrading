{
 "cells": [
  {
   "cell_type": "markdown",
   "metadata": {},
   "source": [
    "# COGS 108 - Final Project Proposal: Trading Players, Player Performance, and Prediction of Success in Making it to the NBA Finals"
   ]
  },
  {
   "cell_type": "markdown",
   "metadata": {},
   "source": [
    "# Names\n",
    "\n",
    "- Alexis Garduno\n",
    "- Aleksander Archipov\n",
    "- Jamie Wei\n",
    "- James Daza"
   ]
  },
  {
   "cell_type": "markdown",
   "metadata": {},
   "source": [
    "# Research Question"
   ]
  },
  {
   "cell_type": "markdown",
   "metadata": {},
   "source": [
    "* Does the number of times a player is traded predict that player's performance (e.g. average total points scored/game, average minutes played/game, etc) in an NBA game? Also, does the turn-over rate (e.g. number of players traded within a team/season) of a NBA team affect the likelihood that the team will reach the NBA finals (evidenced by the last 20 years of NBA games)?"
   ]
  },
  {
   "cell_type": "markdown",
   "metadata": {},
   "source": [
    "## Background and Prior Work"
   ]
  },
  {
   "cell_type": "markdown",
   "metadata": {},
   "source": [
    "#### Background\n",
    "\n",
    "The NBA is a high-tension business, where is each team is constantly fighting to maintain only the highest skilled players.  While the top 25 big hitters tend to remain relatively static, the rest of the 450+ players in the league can come and go at any moment.  This can have a great impact on the team and the players.  Trades in the NBA are quite complex, dealing with variables such as salary cap, the NBA collective bargaining agreement(CBA), as well as the team's personal needs.  Some research has already been done on the effects of trades on NBA teams as well as work on predicting factors in NBA player and team success.   \n",
    "\n",
    "The NBA is also a very stat-heavy sport. NBA games are decided by whichever team has the most points. However, that doesn’t mean Basketball is just about outsourcing your opponent. There are many other factors that are looked upon. Mainly: assists, rebounds, blocks, steals, and turnovers. Each of these variables could be a factor in increasing the points of a team. Assists count when an NBA player passes the ball to another player and that player manages to score some points. A rebound is when another player attempts a shot, and the player catches the ball as it's falling down. A block is when a player manages to deflect a player's shot from his goal. A steal is when a player manages to gain possession from the other team. Finally, a turnover is when a player loses control of the ball, and the opposing team gains possession. Obviously, it is better to have higher stats in all of the mentioned above except turnovers. In this study, we will be looking at these stats and many others to determine how a player is performing in a season. \n",
    "\n",
    "#### Prior Work\n",
    "\n",
    "In a 2020 article by Michael C. Wright (Reference 1), Wright talks to players about the effect that trades can have on the team's morale.  Players mentioned how close wins and tough losses throughout a season can create strong bonds and chemistry between players.  Teams with good chemistry are generally more successful and thus make it closer to the Finals.  The NBA veterans note that it is something they can get used to.  For instance, early in their career, it can have a big impact on how they play, but as they get older they realize it is just a part of the business and it does not affect them as much.  Even still, players that might play together for 5 or more years can easily be separated at any time.  \n",
    "\n",
    "Work on predicting NBA results has been done before.  The website fivethirtyeight.com (Reference 2) uses player projections that take into account factors, such as physiological, scoring, tendencies, passing, and defense, among other variables.  This data is compared to past NBA players to predict that player's season.  The site then runs simulations on this data to form predicted season statistics for each team.  While this is a reasonable predictor, it fails to take into consideration any phycological factors that can arise from trading, as mentioned previously.\n",
    "\n",
    "Another source we looked at (Reference 3) found the most important stats when looking at team performances. Generally, a lot of team performance can’t be calculated into a number, however, this website managed to find a correlation between some stats and the likelihood of winning. They specifically looked at Rebounds, Turnovers, Field goal %, Free throw %, and Fouls. They found that the team with the higher Field goal % is 75% more likely to win the game and that the team with the highest Free throw % is 70% more likely to win. However, just because these stats may be higher for some teams, it doesn't always mean they will win the game.\n",
    "\n",
    "References (include links):\n",
    "- 1) https://www.nba.com/news/trade-deadline-when-friends-are-dealt\n",
    "- 2) https://projects.fivethirtyeight.com/nba-trades-2022/\n",
    "- 3) https://www.oskeimsportspicks.com/nba-stats/#:~:text=In%20addition%20to%20winning%20three%20of%[…]so%20why%20put%20them%20first%20on%20the%20list%3F"
   ]
  },
  {
   "cell_type": "markdown",
   "metadata": {},
   "source": [
    "# Hypothesis\n"
   ]
  },
  {
   "cell_type": "markdown",
   "metadata": {},
   "source": [
    "We expect that an NBA player who is traded more than an average NBA player at their point of their career (in terms of years in the NBA) will score less points/game, play less time/game, and have worse performance on average. Teams with NBA players who are traded more than an average player at a similar point in their career will be less likely to make it to the NBA finals.\n"
   ]
  },
  {
   "cell_type": "markdown",
   "metadata": {},
   "source": [
    "# Data"
   ]
  },
  {
   "cell_type": "markdown",
   "metadata": {},
   "source": [
    "* Our ideal dataset captures the representative history of the NBA games and player history; the dataset will have summary statistics of each NBA player's performance over their entire career. Specifically, the variables needed will be team membership and the period in which the player belonged to that particular team. It will be important to determine the period of team membership for each individual player, in order to determine when a player was traded, and if this trade occurred within a season or post-season. \n",
    "* Parameters to define player turnover (primary independent variable): player, team membership, time that the player spent on that particular team, total period of time spent in the NBA\n",
    "* Parameters to assess player performance (primary dependent variable): points, assists, rebounds, blocks, steals, turnovers, field goal percentage, turnovers, player efficiency rating\n",
    "* Data feed: This data will be collected through an API client (nba_api). The API Client makes requests from the NBA website's endpoints with information as recent as 2022 that captures most of the games in the history of the NBA. This data will be pulled into a dataframe using the NBA API that we identified from an existing public repository.\n",
    "    * API: https://github.com/swar/nba_api"
   ]
  },
  {
   "cell_type": "markdown",
   "metadata": {},
   "source": [
    "# Ethics & Privacy"
   ]
  },
  {
   "cell_type": "markdown",
   "metadata": {},
   "source": [
    "* Ethics: One ethical concern is the use of our predictive model of the player and team performance for gambling. If we make this program publically available, it will be important to write disclaimers about the use of this model for gambling, since our model is not optimized for making money. Those who engage in online gambling may attempt to use this model to place bets but that is ill-advised since this analysis is largely exploratory. We don't have any concerns about privacy since this data is publically available and is de-identified. Alternatively, another key consideration is that this model may demonstrate that players that are heavily traded are undesirable, so this research may identify the player as undesirable and may slander the athlete, which could potentially impact the future earnings of NBA players. This analysis may potentially lead particular athletes who are heavily traded to be viewed negatively by the public. \n",
    "\n",
    "* Privacy: Player statistics are generally publicized in the news and are a part of player contracts; they are not protected personal information and cannot be used to identify other private information about individual players. "
   ]
  },
  {
   "cell_type": "markdown",
   "metadata": {},
   "source": [
    "# Team Expectations "
   ]
  },
  {
   "cell_type": "markdown",
   "metadata": {},
   "source": [
    "* James Daza: Setting up the dataset using the NBA API, splitting up the coding for data management and statistical analysis \n",
    "* Alexis Garduno: Contributing to genereating dataset features through data aggregation; will help define the independent variable for models of player turn-over and quantify the number of times a player is traded by aggregating data from each game for each player over their career; contribute to designing and implementing statistical analysis. \n",
    "* Jamie Wie: Background and discussion results; support analysis and write-up; serve as the basketball content expert\n",
    "* Aleksander Archipov: Background, Interpolation, analysis, data cleaning and coding, contributing to the project in all respects"
   ]
  },
  {
   "cell_type": "markdown",
   "metadata": {},
   "source": [
    "# Project Timeline Proposal"
   ]
  },
  {
   "cell_type": "markdown",
   "metadata": {},
   "source": [
    "| Meeting Date  | Meeting Time| Completed Before Meeting  | Discuss at Meeting |\n",
    "|---|---|---|---|\n",
    "| 1/20  |  1 PM | Read & Think about COGS 108 expectations; brainstorm topics/questions  | Determine best form of communication; Discuss and decide on final project topic; discuss hypothesis; begin background research | \n",
    "| 1/26  |  10 AM |  Do background research on topic | Discuss ideal dataset(s) and ethics; draft project proposal | \n",
    "| 2/1  | 10 AM  | Edit, finalize, and submit proposal; Search for datasets  | Discuss Wrangling and possible analytical approaches; Assign group members to lead each specific part   |\n",
    "| 2/14  | 6 PM  | Import & Wrangle Data (Ant Man); EDA (Hulk) | Review/Edit wrangling/EDA; Discuss Analysis Plan   |\n",
    "| 2/23  | 12 PM  | Finalize wrangling/EDA; Begin Analysis (Iron Man; Thor) | Discuss/edit Analysis; Complete project check-in |\n",
    "| 3/13  | 12 PM  | Complete analysis; Draft results/conclusion/discussion (Wasp)| Discuss/edit full project |\n",
    "| 3/19  | Before 11:59 PM  | NA | Turn in Final Project & Group Project Surveys |"
   ]
  }
 ],
 "metadata": {
  "kernelspec": {
   "display_name": "Python 3 (ipykernel)",
   "language": "python",
   "name": "python3"
  },
  "language_info": {
   "codemirror_mode": {
    "name": "ipython",
    "version": 3
   },
   "file_extension": ".py",
   "mimetype": "text/x-python",
   "name": "python",
   "nbconvert_exporter": "python",
   "pygments_lexer": "ipython3",
   "version": "3.9.5"
  }
 },
 "nbformat": 4,
 "nbformat_minor": 2
}
